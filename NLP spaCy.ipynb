{
 "cells": [
  {
   "cell_type": "code",
   "execution_count": null,
   "id": "22ac6903-01b2-4fc7-a37f-65b8d0df1972",
   "metadata": {},
   "outputs": [],
   "source": [
    "# pavansomisetty21@gmail.com # open to work #Pavansomisetty21(github) \n",
    "#http://www.linkedin.com/in/pavan-somisetty-1930a6233"
   ]
  },
  {
   "cell_type": "code",
   "execution_count": 8,
   "id": "1e252693-df67-4ebd-ba51-e8afaed4c5e8",
   "metadata": {},
   "outputs": [],
   "source": [
    "import spacy\n",
    "nlp = spacy.load(\"en_core_web_sm\")"
   ]
  },
  {
   "cell_type": "code",
   "execution_count": 6,
   "id": "c2795c7c-f315-4212-b8fe-e861e7afe148",
   "metadata": {},
   "outputs": [
    {
     "name": "stdout",
     "output_type": "stream",
     "text": [
      "[('Jack', 'PERSON'), ('Jill', 'PERSON'), ('Les Deux Alpes', 'GPE')]\n"
     ]
    }
   ],
   "source": [
    "import spacy\n",
    "\n",
    "# Load a pre-trained model\n",
    "nlp = spacy.load(\"en_core_web_sm\")\n",
    "\n",
    "# Test the model\n",
    "doc = nlp(\"Jack and Jill rode up the hill in Les Deux Alpes\")\n",
    "print([(ent.text, ent.label_) for ent in doc.ents])\n"
   ]
  },
  {
   "cell_type": "code",
   "execution_count": 22,
   "id": "fd1cd673-6fa6-4019-8d0c-6794a92cca0d",
   "metadata": {},
   "outputs": [
    {
     "name": "stdout",
     "output_type": "stream",
     "text": [
      "Large Language Models WORK_OF_ART\n",
      "GPT-4 PERSON\n",
      "BERT ORG\n",
      "AI ORG\n",
      "OpenAI GPE\n",
      "Elon Musk PERSON\n",
      "Sam Altman PERSON\n",
      "Greg Brockman PERSON\n",
      "Ilya Sutskever PERSON\n",
      "Wojciech Zaremba ORG\n",
      "John Schulman PERSON\n",
      "December 2015 DATE\n",
      "San Francisco GPE\n",
      "California GPE\n",
      "Google AI ORG\n",
      "Facebook AI Research ORG\n"
     ]
    }
   ],
   "source": [
    "#Named Entity Recognition Using Spacy\n",
    "import spacy\n",
    "\n",
    "# Load the pre-trained spaCy model\n",
    "nlp = spacy.load(\"en_core_web_sm\")\n",
    "\n",
    "# Example paragraph\n",
    "paragraph = \"\"\"\n",
    "Large Language Models (LLMs) such as GPT-4 and BERT have been developed by leading AI researchers and organizations. \n",
    "OpenAI, a prominent provider of LLMs, was co-founded by Elon Musk, Sam Altman, Greg Brockman, Ilya Sutskever,\n",
    "Wojciech Zaremba, and John Schulman in December 2015,\n",
    "with its headquarters in San Francisco, California.\n",
    "Other major contributors to the development of LLMs include Google AI and Facebook AI Research.\n",
    "These models are designed to perform a variety of language-related tasks, including text generation, translation, \n",
    "summarization, and question answering.\n",
    "By leveraging deep learning techniques and extensive training data, \n",
    "LLMs have revolutionized natural language processing and enabled advancements in fields such as customer service, content creation, and research\n",
    "\"\"\"\n",
    "\n",
    "# Process the paragraph with the NLP model\n",
    "doc = nlp(paragraph)\n",
    "\n",
    "# Extract and print named entities\n",
    "for ent in doc.ents:\n",
    "    print(ent.text, ent.label_)\n",
    "\n"
   ]
  },
  {
   "cell_type": "code",
   "execution_count": 28,
   "id": "7a87c3f6-d7ec-4669-b0c6-94c0bb984ad3",
   "metadata": {},
   "outputs": [
    {
     "name": "stdout",
     "output_type": "stream",
     "text": [
      "Entity: Elon Musk\n",
      "Label: PERSON\n",
      "Explanation: People, including fictional\n",
      "---\n",
      "Entity: American\n",
      "Label: NORP\n",
      "Explanation: Nationalities or religious or political groups\n",
      "---\n",
      "Entity: Falcon Heavy\n",
      "Label: ORG\n",
      "Explanation: Companies, agencies, institutions, etc.\n",
      "---\n",
      "Entity: the Kennedy Space Center\n",
      "Label: FAC\n",
      "Explanation: Buildings, airports, highways, bridges, etc.\n",
      "---\n",
      "Entity: around $150 million\n",
      "Label: MONEY\n",
      "Explanation: Monetary values, including unit\n",
      "---\n",
      "Entity: January 2023\n",
      "Label: DATE\n",
      "Explanation: Absolute or relative dates or periods\n",
      "---\n",
      "Entity: Mars\n",
      "Label: LOC\n",
      "Explanation: Non-GPE locations, mountain ranges, bodies of water\n",
      "---\n",
      "Entity: 2030\n",
      "Label: DATE\n",
      "Explanation: Absolute or relative dates or periods\n",
      "---\n",
      "Entity: the United Nations\n",
      "Label: ORG\n",
      "Explanation: Companies, agencies, institutions, etc.\n",
      "---\n",
      "Entity: \"Mars Odyssey\"\n",
      "Label: WORK_OF_ART\n",
      "Explanation: Titles of books, songs, etc.\n",
      "---\n",
      "Entity: Jules Verne's\n",
      "Label: PERSON\n",
      "Explanation: People, including fictional\n",
      "---\n",
      "Entity: From the Earth\n",
      "Label: WORK_OF_ART\n",
      "Explanation: Titles of books, songs, etc.\n",
      "---\n",
      "Entity: the Outer Space Treaty\n",
      "Label: ORG\n",
      "Explanation: Companies, agencies, institutions, etc.\n",
      "---\n",
      "Entity: 10 kilometers\n",
      "Label: QUANTITY\n",
      "Explanation: Measurements, as of weight or distance\n",
      "---\n",
      "Entity: second\n",
      "Label: ORDINAL\n",
      "Explanation: \"first\", \"second\", etc.\n",
      "---\n",
      "Entity: over 300 million kilometers\n",
      "Label: QUANTITY\n",
      "Explanation: Measurements, as of weight or distance\n",
      "---\n",
      "Entity: hundreds\n",
      "Label: CARDINAL\n",
      "Explanation: Numerals that do not fall under another type\n",
      "---\n",
      "Entity: zero\n",
      "Label: CARDINAL\n",
      "Explanation: Numerals that do not fall under another type\n",
      "---\n",
      "Entity: 2 PM\n",
      "Label: TIME\n",
      "Explanation: Times smaller than a day\n",
      "---\n"
     ]
    }
   ],
   "source": [
    "#All entity labels\n",
    "import spacy\n",
    "\n",
    "# Load the English language model\n",
    "nlp = spacy.load('en_core_web_sm')\n",
    "\n",
    "# Paragraph with all entity labels\n",
    "paragraph = \"\"\"\n",
    "Elon Musk, an American entrepreneur and CEO of SpaceX, announced plans to launch the Falcon Heavy rocket from the Kennedy Space Center. \n",
    "The rocket, which costs around $150 million, will carry scientific instruments, including an iPhone, to measure various environmental parameters. \n",
    "The mission is scheduled for January 2023, aiming to reach Mars by 2030. The initiative, supported by the United Nations, is part of a global effort to promote space exploration. \n",
    "This project, nicknamed \"Mars Odyssey\", draws inspiration from Jules Verne's \"From the Earth to the Moon\" and aligns with the principles of the Outer Space Treaty. \n",
    "The rocket, traveling at 10 kilometers per second, will cover a distance of over 300 million kilometers. The project, involving hundreds of engineers and scientists, is expected to revolutionize our understanding of the universe. \n",
    "As the countdown reaches zero at 2 PM, the world will watch in anticipation.\n",
    "\"\"\"\n",
    "\n",
    "# Process the text with spaCy\n",
    "doc = nlp(paragraph)\n",
    "\n",
    "# Iterate over detected entities and explain each\n",
    "for ent in doc.ents:\n",
    "    explanation = spacy.explain(ent.label_)\n",
    "    print(f\"Entity: {ent.text}\")\n",
    "    print(f\"Label: {ent.label_}\")\n",
    "    print(f\"Explanation: {explanation}\")\n",
    "    print(\"---\")\n"
   ]
  },
  {
   "cell_type": "code",
   "execution_count": 16,
   "id": "fcdcbd2a-125d-4b1e-b41c-0c357c710079",
   "metadata": {},
   "outputs": [
    {
     "name": "stdout",
     "output_type": "stream",
     "text": [
      "Token: We, Dependency Label: nsubj, Head Text: are\n",
      "Token: all, Dependency Label: appos, Head Text: We\n",
      "Token: are, Dependency Label: ROOT, Head Text: are\n",
      "Token: Developers, Dependency Label: attr, Head Text: are\n"
     ]
    }
   ],
   "source": [
    "#dependency parsing \n",
    "import spacy\n",
    "\n",
    "# Load the small English model\n",
    "nlp = spacy.load(\"en_core_web_sm\")\n",
    "\n",
    "# Example text\n",
    "text = \"We all are Developers\"\n",
    "\n",
    "# Process the text\n",
    "doc = nlp(text)\n",
    "\n",
    "# Print dependency parse information\n",
    "for token in doc:\n",
    "    print(f\"Token: {token.text}, Dependency Label: {token.dep_}, Head Text: {token.head.text}\")\n"
   ]
  },
  {
   "cell_type": "code",
   "execution_count": 12,
   "id": "a2bacc70-7b2f-4c0f-9864-e6eeb3f765f7",
   "metadata": {},
   "outputs": [
    {
     "name": "stdout",
     "output_type": "stream",
     "text": [
      "Token: He, Lemma: he\n",
      "Token: ran, Lemma: run\n",
      "Token: to, Lemma: to\n",
      "Token: the, Lemma: the\n",
      "Token: store, Lemma: store\n",
      "Token: and, Lemma: and\n",
      "Token: then, Lemma: then\n",
      "Token: started, Lemma: started\n",
      "Token: running, Lemma: run\n",
      "Token: again, Lemma: again\n",
      "Token: ., Lemma: .\n"
     ]
    }
   ],
   "source": [
    "#lemmatization\n",
    "import spacy\n",
    "\n",
    "# Load the small English model\n",
    "nlp = spacy.load(\"en_core_web_sm\")\n",
    "\n",
    "# Example text\n",
    "text = \"He ran to the store and then started running again.\"\n",
    "\n",
    "# Process the text\n",
    "doc = nlp(text)\n",
    "\n",
    "# Print lemmas\n",
    "for token in doc:\n",
    "    print(f\"Token: {token.text}, Lemma: {token.lemma_}\")\n"
   ]
  },
  {
   "cell_type": "code",
   "execution_count": 23,
   "id": "04a8d417-92a8-4f1b-a8d4-f510f0c55f57",
   "metadata": {},
   "outputs": [
    {
     "name": "stdout",
     "output_type": "stream",
     "text": [
      "Predicted Sentiment: positive\n"
     ]
    },
    {
     "name": "stderr",
     "output_type": "stream",
     "text": [
      "C:\\Users\\pavan\\AppData\\Local\\anaconda3\\envs\\prompt\\Lib\\site-packages\\sklearn\\feature_extraction\\text.py:523: UserWarning: The parameter 'token_pattern' will not be used since 'tokenizer' is not None'\n",
      "  warnings.warn(\n"
     ]
    }
   ],
   "source": [
    "#Binary class Text Classification\n",
    "import spacy\n",
    "from sklearn.feature_extraction.text import CountVectorizer\n",
    "from sklearn.svm import SVC\n",
    "\n",
    "# Load spaCy model\n",
    "nlp = spacy.load(\"en_core_web_sm\")\n",
    "\n",
    "# Example data (replace with your own dataset)\n",
    "texts = [\"This movie is great!\", \"I did not like this film.\", \"The acting was superb.\"]\n",
    "labels = [\"positive\", \"negative\", \"positive\"]\n",
    "\n",
    "# Tokenize and preprocess text data\n",
    "def tokenize_text(text):\n",
    "    return \" \".join([token.lemma_ for token in nlp(text) if not token.is_stop and not token.is_punct])\n",
    "\n",
    "# Vectorize text data\n",
    "vectorizer = CountVectorizer(tokenizer=tokenize_text)\n",
    "X = vectorizer.fit_transform(texts)\n",
    "\n",
    "# Train a classifier (e.g., Support Vector Machine)\n",
    "classifier = SVC(kernel='linear', probability=True)\n",
    "classifier.fit(X, labels)\n",
    "\n",
    "# Function to predict sentiment\n",
    "def predict_sentiment(text):\n",
    "    # Tokenize and preprocess input text\n",
    "    text_processed = tokenize_text(text)\n",
    "    # Vectorize the processed text\n",
    "    text_vectorized = vectorizer.transform([text_processed])\n",
    "    # Predict probabilities for each class\n",
    "    prob = classifier.predict_proba(text_vectorized)[0]\n",
    "    # Determine sentiment based on probabilities\n",
    "    if prob[0] > 0.5:\n",
    "        return \"negative\"\n",
    "    elif prob[1] > 0.5:\n",
    "        return \"positive\"\n",
    "    else:\n",
    "        return \"neutral\"\n",
    "\n",
    "# Example usage:\n",
    "input_text = \"This film was okay, not great but not terrible either.\"\n",
    "predicted_sentiment = predict_sentiment(input_text)\n",
    "print(f\"Predicted Sentiment: {predicted_sentiment}\")\n"
   ]
  },
  {
   "cell_type": "code",
   "execution_count": 26,
   "id": "0048012b-b011-4b4e-bb23-4532db4865c6",
   "metadata": {},
   "outputs": [
    {
     "name": "stdout",
     "output_type": "stream",
     "text": [
      "Predicted Sentiment: negative\n"
     ]
    }
   ],
   "source": [
    "#Another Example on BCTC\n",
    "input_text = \"The weather today is average, neither too hot nor too cold.\"\n",
    "predicted_sentiment = predict_sentiment(input_text)\n",
    "print(f\"Predicted Sentiment: {predicted_sentiment}\")\n"
   ]
  },
  {
   "cell_type": "code",
   "execution_count": 29,
   "id": "138c1d97-3cca-4eb5-99c4-6cc4a9cbb67b",
   "metadata": {},
   "outputs": [
    {
     "name": "stdout",
     "output_type": "stream",
     "text": [
      "Entities:\n",
      "('Elon Musk', 'PERSON')\n",
      "('2002', 'DATE')\n",
      "('Mars', 'LOC')\n",
      "('first', 'ORDINAL')\n",
      "('the Falcon 9', 'ORG')\n",
      "('Dragon', 'ORG')\n",
      "('first', 'ORDINAL')\n",
      "('the International Space Station', 'ORG')\n",
      "('2012', 'DATE')\n",
      "('2020', 'DATE')\n",
      "('ISS', 'ORG')\n",
      "('SpaceX’s Starship', 'PERSON')\n",
      "('Mars', 'LOC')\n",
      "('Musk', 'PERSON')\n",
      "('Earth', 'LOC')\n",
      "\n",
      "Summary:\n",
      "Founded by Elon Musk in 2002, SpaceX has played a pivotal role in this domain. The company’s ambitious vision includes reducing space transportation costs and enabling the colonization of Mars. SpaceX developed the Falcon 1, the first privately developed liquid-fueled rocket to reach orbit, and the Falcon 9, a reusable rocket that revolutionized the economics of space travel. With its Dragon spacecraft, SpaceX became the first private company to send a spacecraft to the International Space Station in 2012. In 2020, it marked another milestone by launching astronauts to the ISS, a feat previously achieved only by government space agencies. SpaceX’s Starship, currently in development, aims to carry both crew and cargo to a variety of destinations, including Mars. This fully reusable spacecraft represents the cornerstone of Musk’s vision for interplanetary travel. Meanwhile, SpaceX’s Starlink project endeavors to provide global high-speed internet access by deploying a constellation of low Earth orbit satellites.\n"
     ]
    }
   ],
   "source": [
    "#Text Summarization \n",
    "import spacy\n",
    "\n",
    "def summarize_paragraph(text):\n",
    "    # Load the spaCy model\n",
    "    nlp = spacy.load(\"en_core_web_sm\")\n",
    "\n",
    "    # Process the text with spaCy\n",
    "    doc = nlp(text)\n",
    "\n",
    "    # Extract entities\n",
    "    entities = [(ent.text, ent.label_) for ent in doc.ents]\n",
    "\n",
    "    # Display entities\n",
    "    print(\"Entities:\")\n",
    "    for entity in entities:\n",
    "        print(entity)\n",
    "\n",
    "    # Extract sentences containing key entities\n",
    "    important_sentences = []\n",
    "    key_entities = {ent.text for ent in doc.ents}\n",
    "    for sent in doc.sents:\n",
    "        if any(entity in sent.text for entity in key_entities):\n",
    "            important_sentences.append(sent.text)\n",
    "\n",
    "    # Combine the selected sentences to form a summary\n",
    "    summary = \" \".join(important_sentences)\n",
    "\n",
    "    print(\"\\nSummary:\")\n",
    "    print(summary)\n",
    "\n",
    "# Example usage with a user-provided paragraph\n",
    "example_text = (\n",
    "    \"Space exploration has always been a frontier that pushes the boundaries of human innovation and determination. \"\n",
    "    \"Founded by Elon Musk in 2002, SpaceX has played a pivotal role in this domain. The company’s ambitious vision \"\n",
    "    \"includes reducing space transportation costs and enabling the colonization of Mars. SpaceX developed the Falcon 1, \"\n",
    "    \"the first privately developed liquid-fueled rocket to reach orbit, and the Falcon 9, a reusable rocket that \"\n",
    "    \"revolutionized the economics of space travel. With its Dragon spacecraft, SpaceX became the first private company \"\n",
    "    \"to send a spacecraft to the International Space Station in 2012. In 2020, it marked another milestone by launching \"\n",
    "    \"astronauts to the ISS, a feat previously achieved only by government space agencies. SpaceX’s Starship, currently \"\n",
    "    \"in development, aims to carry both crew and cargo to a variety of destinations, including Mars. This fully reusable \"\n",
    "    \"spacecraft represents the cornerstone of Musk’s vision for interplanetary travel. Meanwhile, SpaceX’s Starlink project \"\n",
    "    \"endeavors to provide global high-speed internet access by deploying a constellation of low Earth orbit satellites. \"\n",
    "    \"Despite facing numerous challenges and setbacks, SpaceX continues to innovate and inspire, pushing the limits of what \"\n",
    "    \"is possible in space exploration. Their advancements have not only made space more accessible but have also sparked \"\n",
    "    \"renewed interest and investment in the aerospace sector globally.\"\n",
    ")\n",
    "\n",
    "summarize_paragraph(example_text)\n"
   ]
  },
  {
   "cell_type": "code",
   "execution_count": 15,
   "id": "31536776-36e7-456c-948b-cf3de3647243",
   "metadata": {},
   "outputs": [
    {
     "data": {
      "text/html": [
       "<span class=\"tex2jax_ignore\"><!DOCTYPE html>\n",
       "<html lang=\"en\">\n",
       "    <head>\n",
       "        <title>displaCy</title>\n",
       "    </head>\n",
       "\n",
       "    <body style=\"font-size: 16px; font-family: -apple-system, BlinkMacSystemFont, 'Segoe UI', Helvetica, Arial, sans-serif, 'Apple Color Emoji', 'Segoe UI Emoji', 'Segoe UI Symbol'; padding: 4rem 2rem; direction: ltr\">\n",
       "<figure style=\"margin-bottom: 6rem\">\n",
       "<svg xmlns=\"http://www.w3.org/2000/svg\" xmlns:xlink=\"http://www.w3.org/1999/xlink\" xml:lang=\"en\" id=\"c0b9ef134ae7427a96f159636593a52b-0\" class=\"displacy\" width=\"750\" height=\"312.0\" direction=\"ltr\" style=\"max-width: none; height: 312.0px; color: #000000; background: #ffffff; font-family: Arial; direction: ltr\">\n",
       "<text class=\"displacy-token\" fill=\"currentColor\" text-anchor=\"middle\" y=\"222.0\">\n",
       "    <tspan class=\"displacy-word\" fill=\"currentColor\" x=\"50\">We</tspan>\n",
       "    <tspan class=\"displacy-tag\" dy=\"2em\" fill=\"currentColor\" x=\"50\">PRON</tspan>\n",
       "</text>\n",
       "\n",
       "<text class=\"displacy-token\" fill=\"currentColor\" text-anchor=\"middle\" y=\"222.0\">\n",
       "    <tspan class=\"displacy-word\" fill=\"currentColor\" x=\"225\">all</tspan>\n",
       "    <tspan class=\"displacy-tag\" dy=\"2em\" fill=\"currentColor\" x=\"225\">PRON</tspan>\n",
       "</text>\n",
       "\n",
       "<text class=\"displacy-token\" fill=\"currentColor\" text-anchor=\"middle\" y=\"222.0\">\n",
       "    <tspan class=\"displacy-word\" fill=\"currentColor\" x=\"400\">are</tspan>\n",
       "    <tspan class=\"displacy-tag\" dy=\"2em\" fill=\"currentColor\" x=\"400\">AUX</tspan>\n",
       "</text>\n",
       "\n",
       "<text class=\"displacy-token\" fill=\"currentColor\" text-anchor=\"middle\" y=\"222.0\">\n",
       "    <tspan class=\"displacy-word\" fill=\"currentColor\" x=\"575\">Developers</tspan>\n",
       "    <tspan class=\"displacy-tag\" dy=\"2em\" fill=\"currentColor\" x=\"575\">PROPN</tspan>\n",
       "</text>\n",
       "\n",
       "<g class=\"displacy-arrow\">\n",
       "    <path class=\"displacy-arc\" id=\"arrow-c0b9ef134ae7427a96f159636593a52b-0-0\" stroke-width=\"2px\" d=\"M70,177.0 C70,2.0 400.0,2.0 400.0,177.0\" fill=\"none\" stroke=\"currentColor\"/>\n",
       "    <text dy=\"1.25em\" style=\"font-size: 0.8em; letter-spacing: 1px\">\n",
       "        <textPath xlink:href=\"#arrow-c0b9ef134ae7427a96f159636593a52b-0-0\" class=\"displacy-label\" startOffset=\"50%\" side=\"left\" fill=\"currentColor\" text-anchor=\"middle\">nsubj</textPath>\n",
       "    </text>\n",
       "    <path class=\"displacy-arrowhead\" d=\"M70,179.0 L62,167.0 78,167.0\" fill=\"currentColor\"/>\n",
       "</g>\n",
       "\n",
       "<g class=\"displacy-arrow\">\n",
       "    <path class=\"displacy-arc\" id=\"arrow-c0b9ef134ae7427a96f159636593a52b-0-1\" stroke-width=\"2px\" d=\"M70,177.0 C70,89.5 220.0,89.5 220.0,177.0\" fill=\"none\" stroke=\"currentColor\"/>\n",
       "    <text dy=\"1.25em\" style=\"font-size: 0.8em; letter-spacing: 1px\">\n",
       "        <textPath xlink:href=\"#arrow-c0b9ef134ae7427a96f159636593a52b-0-1\" class=\"displacy-label\" startOffset=\"50%\" side=\"left\" fill=\"currentColor\" text-anchor=\"middle\">appos</textPath>\n",
       "    </text>\n",
       "    <path class=\"displacy-arrowhead\" d=\"M220.0,179.0 L228.0,167.0 212.0,167.0\" fill=\"currentColor\"/>\n",
       "</g>\n",
       "\n",
       "<g class=\"displacy-arrow\">\n",
       "    <path class=\"displacy-arc\" id=\"arrow-c0b9ef134ae7427a96f159636593a52b-0-2\" stroke-width=\"2px\" d=\"M420,177.0 C420,89.5 570.0,89.5 570.0,177.0\" fill=\"none\" stroke=\"currentColor\"/>\n",
       "    <text dy=\"1.25em\" style=\"font-size: 0.8em; letter-spacing: 1px\">\n",
       "        <textPath xlink:href=\"#arrow-c0b9ef134ae7427a96f159636593a52b-0-2\" class=\"displacy-label\" startOffset=\"50%\" side=\"left\" fill=\"currentColor\" text-anchor=\"middle\">attr</textPath>\n",
       "    </text>\n",
       "    <path class=\"displacy-arrowhead\" d=\"M570.0,179.0 L578.0,167.0 562.0,167.0\" fill=\"currentColor\"/>\n",
       "</g>\n",
       "</svg>\n",
       "</figure>\n",
       "</body>\n",
       "</html></span>"
      ],
      "text/plain": [
       "<IPython.core.display.HTML object>"
      ]
     },
     "metadata": {},
     "output_type": "display_data"
    },
    {
     "name": "stdout",
     "output_type": "stream",
     "text": [
      "\n",
      "Using the 'dep' visualizer\n",
      "Serving on http://0.0.0.0:5000 ...\n",
      "\n",
      "Shutting down server on port 5000.\n"
     ]
    }
   ],
   "source": [
    "#displaCy: Part of Speech Tagging Demo\n",
    "import spacy\n",
    "from spacy import displacy\n",
    "nlp = spacy.load(\"en_core_web_sm\")\n",
    "\n",
    "about_interest_text = (\n",
    "   \"We all are Developers\")\n",
    "about_interest_doc = nlp(about_interest_text)\n",
    "displacy.serve(about_interest_doc, style=\"dep\")"
   ]
  },
  {
   "cell_type": "code",
   "execution_count": 5,
   "id": "46e278cd-2c67-4b17-84dd-eda8e220ce29",
   "metadata": {},
   "outputs": [
    {
     "name": "stdout",
     "output_type": "stream",
     "text": [
      "[('SpaceX', 6), ('space', 5), ('spacecraft', 3), ('Space', 2), ('exploration', 2)]\n"
     ]
    }
   ],
   "source": [
    "# WORD frequency\n",
    "import spacy\n",
    "from collections import Counter\n",
    "nlp = spacy.load(\"en_core_web_sm\")\n",
    "complete_text = (\n",
    "     \"Space exploration has always been a frontier that pushes the boundaries of human innovation and determination. \"\n",
    "    \"Founded by Elon Musk in 2002, SpaceX has played a pivotal role in this domain. The company’s ambitious vision \"\n",
    "    \"includes reducing space transportation costs and enabling the colonization of Mars. SpaceX developed the Falcon 1, \"\n",
    "    \"the first privately developed liquid-fueled rocket to reach orbit, and the Falcon 9, a reusable rocket that \"\n",
    "    \"revolutionized the economics of space travel. With its Dragon spacecraft, SpaceX became the first private company \"\n",
    "    \"to send a spacecraft to the International Space Station in 2012. In 2020, it marked another milestone by launching \"\n",
    "    \"astronauts to the ISS, a feat previously achieved only by government space agencies. SpaceX’s Starship, currently \"\n",
    "    \"in development, aims to carry both crew and cargo to a variety of destinations, including Mars. This fully reusable \"\n",
    "    \"spacecraft represents the cornerstone of Musk’s vision for interplanetary travel. Meanwhile, SpaceX’s Starlink project \"\n",
    "    \"endeavors to provide global high-speed internet access by deploying a constellation of low Earth orbit satellites. \"\n",
    "    \"Despite facing numerous challenges and setbacks, SpaceX continues to innovate and inspire, pushing the limits of what \"\n",
    "    \"is possible in space exploration. Their advancements have not only made space more accessible but have also sparked \"\n",
    "    \"renewed interest and investment in the aerospace sector globally.\"\n",
    " )\n",
    "complete_doc = nlp(complete_text)\n",
    "\n",
    "words = [\n",
    "     token.text\n",
    "     for token in complete_doc\n",
    "     if not token.is_stop and not token.is_punct\n",
    " ]\n",
    "\n",
    "print(Counter(words).most_common(5))\n"
   ]
  },
  {
   "cell_type": "code",
   "execution_count": null,
   "id": "a10a70e0-082a-40ff-b796-1cedbad76f8b",
   "metadata": {},
   "outputs": [],
   "source": []
  }
 ],
 "metadata": {
  "kernelspec": {
   "display_name": "Python 3 (ipykernel)",
   "language": "python",
   "name": "python3"
  },
  "language_info": {
   "codemirror_mode": {
    "name": "ipython",
    "version": 3
   },
   "file_extension": ".py",
   "mimetype": "text/x-python",
   "name": "python",
   "nbconvert_exporter": "python",
   "pygments_lexer": "ipython3",
   "version": "3.11.9"
  }
 },
 "nbformat": 4,
 "nbformat_minor": 5
}
